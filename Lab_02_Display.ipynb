{
  "cells": [
    {
      "cell_type": "markdown",
      "id": "340bfc20-ce54-4f1c-ac55-72660f7493f8",
      "metadata": {
        "id": "340bfc20-ce54-4f1c-ac55-72660f7493f8"
      },
      "source": [
        "# Frozen Lake DRL using Jupyter notebook.\n",
        "1. Q-table ( update using value-action state).\n",
        "2. E-greedy update on policy ( E-rand, 1-E max-greedy)\n",
        "3. E decaying\n",
        "4. Training\n",
        "5. Testing ran approach.   "
      ]
    },
    {
      "cell_type": "code",
      "execution_count": 12,
      "id": "5f172eab-cffe-4cd4-83ac-840168219058",
      "metadata": {
        "id": "5f172eab-cffe-4cd4-83ac-840168219058"
      },
      "outputs": [],
      "source": [
        "# !pip install gymnasium\n",
        "#!pip install pygame"
      ]
    },
    {
      "cell_type": "code",
      "execution_count": 13,
      "id": "da33c7a1-2f32-4719-b2a8-af1e78a9624b",
      "metadata": {
        "id": "da33c7a1-2f32-4719-b2a8-af1e78a9624b"
      },
      "outputs": [],
      "source": [
        "import numpy as np\n",
        "import random\n",
        "import gymnasium as gym"
      ]
    },
    {
      "cell_type": "code",
      "execution_count": 14,
      "id": "6436d963-e143-4de2-8293-62fe643da4e2",
      "metadata": {
        "id": "6436d963-e143-4de2-8293-62fe643da4e2"
      },
      "outputs": [
        {
          "data": {
            "text/plain": [
              "(array([[0., 0., 0., 0.],\n",
              "        [0., 0., 0., 0.],\n",
              "        [0., 0., 0., 0.],\n",
              "        [0., 0., 0., 0.],\n",
              "        [0., 0., 0., 0.],\n",
              "        [0., 0., 0., 0.],\n",
              "        [0., 0., 0., 0.],\n",
              "        [0., 0., 0., 0.],\n",
              "        [0., 0., 0., 0.],\n",
              "        [0., 0., 0., 0.],\n",
              "        [0., 0., 0., 0.],\n",
              "        [0., 0., 0., 0.],\n",
              "        [0., 0., 0., 0.],\n",
              "        [0., 0., 0., 0.],\n",
              "        [0., 0., 0., 0.],\n",
              "        [0., 0., 0., 0.]]),\n",
              " (16, 4))"
            ]
          },
          "execution_count": 14,
          "metadata": {},
          "output_type": "execute_result"
        }
      ],
      "source": [
        "env = gym.make(\"FrozenLake-v1\", desc=None, map_name=\"4x4\", is_slippery=False, render_mode = 'rgb_array')\n",
        "# render_mode = 'rgb_array'\n",
        "# env = gym.make(\"FrozenLake-v1\", desc=None, map_name=\"4x4\", is_slippery=False, render_mode='human')\n",
        "# discrete <-- env.observation_space\n",
        "# Discrete is a child-class of gym.spaces.space :\n",
        "# Basicially has two elements of use (space.n for size, and space.sample()) (start, n=size, seed, sample())\n",
        "\n",
        "\n",
        "\n",
        "state = env.observation_space\n",
        "# state contains [0-15] int locations here.\n",
        "state\n",
        "\n",
        "num_states = state.n\n",
        "num_states\n",
        "\n",
        "action_space = env.action_space\n",
        "num_actions = action_space.n\n",
        "\n",
        "num_states, num_actions\n",
        "\n",
        "qtable = np.zeros((num_states, num_actions))\n",
        "qtable, qtable.shape"
      ]
    },
    {
      "cell_type": "code",
      "execution_count": 15,
      "id": "a7da650c-c039-431a-9890-0e248b08f199",
      "metadata": {
        "id": "a7da650c-c039-431a-9890-0e248b08f199"
      },
      "outputs": [],
      "source": [
        "# Hyper-parameters\n",
        "total_episodes = 15000 # Total episode.\n",
        "# total_episodes = 10 # Total episode.\n",
        "\n",
        "learning_rate = 0.8 # Learning-rate\n",
        "max_steps = 99 # Steps in each episode.\n",
        "# max_steps = 20 # Steps in each episode.\n",
        "\n",
        "gamma = .95 # Discount-rate.\n",
        "\n",
        "# Exploration parameters.\n",
        "epsilon = 1.0\n",
        "max_epsilon = 1.0\n",
        "min_epsilon = 0.01\n",
        "decay_rate = 0.005"
      ]
    },
    {
      "cell_type": "code",
      "execution_count": 16,
      "id": "195da3d1-0acb-449b-b4ed-6f8e85ce86b8",
      "metadata": {
        "id": "195da3d1-0acb-449b-b4ed-6f8e85ce86b8"
      },
      "outputs": [
        {
          "name": "stdout",
          "output_type": "stream",
          "text": [
            "Score over time: 0.9734666666666667\n",
            "[[0.73509189 0.77378094 0.6983373  0.73509189]\n",
            " [0.73509189 0.         0.64025625 0.69735436]\n",
            " [0.69348631 0.59560264 0.         0.45783686]\n",
            " [0.         0.         0.         0.        ]\n",
            " [0.77378094 0.81450625 0.         0.73509189]\n",
            " [0.         0.         0.         0.        ]\n",
            " [0.         0.90154872 0.         0.        ]\n",
            " [0.         0.         0.         0.        ]\n",
            " [0.81450625 0.         0.857375   0.77378094]\n",
            " [0.81450625 0.9025     0.9025     0.        ]\n",
            " [0.85736739 0.95       0.         0.83270707]\n",
            " [0.         0.         0.         0.        ]\n",
            " [0.         0.         0.         0.        ]\n",
            " [0.         0.9025     0.95       0.857375  ]\n",
            " [0.9025     0.95       1.         0.9025    ]\n",
            " [0.         0.         0.         0.        ]]\n"
          ]
        }
      ],
      "source": [
        "# List of rewards\n",
        "rewards = []\n",
        "\n",
        "# 2 For life or until learning is stopped\n",
        "for episode in range(total_episodes):\n",
        "    # Reset the environment\n",
        "    state = env.reset()[0]\n",
        "    step = 0\n",
        "    done = False\n",
        "    total_rewards = 0\n",
        "\n",
        "    for step in range(max_steps):\n",
        "        # 3. Choose an action a in the current world state (s)\n",
        "        ## First we randomize a number\n",
        "        exp_exp_tradeoff = random.uniform(0, 1)\n",
        "\n",
        "        ## If this number > greater than epsilon --> exploitation (taking the biggest Q value for this state)\n",
        "        if exp_exp_tradeoff > epsilon:\n",
        "            action = np.argmax(qtable[state,:])\n",
        "\n",
        "        # Else doing a random choice --> exploration\n",
        "        else:\n",
        "            action = env.action_space.sample()\n",
        "\n",
        "        # Take the action (a) and observe the outcome state(s') and reward (r)\n",
        "        new_state, reward, done,_, info = env.step(action)\n",
        "\n",
        "        qtable[state, action] = qtable[state, action] + learning_rate * (reward + gamma * np.max(qtable[new_state, :]) - qtable[state, action])\n",
        "\n",
        "        total_rewards += reward\n",
        "\n",
        "        # Our new state is state\n",
        "        state = new_state\n",
        "\n",
        "        # If done (if we're dead) : finish episode\n",
        "        if done == True:\n",
        "            break\n",
        "\n",
        "    # Reduce epsilon (because we need less and less exploration)\n",
        "    epsilon = min_epsilon + (max_epsilon - min_epsilon)*np.exp(-decay_rate*episode)\n",
        "    rewards.append(total_rewards)\n",
        "\n",
        "print (\"Score over time: \" +  str(sum(rewards)/total_episodes))\n",
        "print(qtable)"
      ]
    },
    {
      "cell_type": "code",
      "execution_count": 17,
      "id": "86c0d298-1b08-4503-b6d2-e0f08e4e346f",
      "metadata": {
        "id": "86c0d298-1b08-4503-b6d2-e0f08e4e346f"
      },
      "outputs": [
        {
          "name": "stdout",
          "output_type": "stream",
          "text": [
            "****************************************************\n",
            "EPISODE  0\n",
            "Number of steps 5\n",
            "reward:1.0\n",
            "****************************************************\n",
            "EPISODE  1\n",
            "Number of steps 5\n",
            "reward:1.0\n",
            "****************************************************\n",
            "EPISODE  2\n",
            "Number of steps 5\n",
            "reward:1.0\n",
            "****************************************************\n",
            "EPISODE  3\n",
            "Number of steps 5\n",
            "reward:1.0\n",
            "****************************************************\n",
            "EPISODE  4\n",
            "Number of steps 5\n",
            "reward:1.0\n"
          ]
        }
      ],
      "source": [
        "env.reset()\n",
        "\n",
        "for episode in range(5):\n",
        "    state = env.reset()[0]\n",
        "    step = 0\n",
        "    done = False\n",
        "    print(\"****************************************************\")\n",
        "    print(\"EPISODE \", episode)\n",
        "\n",
        "    for step in range(max_steps):\n",
        "\n",
        "        # Take the action (index) that have the maximum expected future reward given that state\n",
        "        action = np.argmax(qtable[state,:])\n",
        "\n",
        "        new_state, reward, done,_, info = env.step(action)\n",
        "        env.render()\n",
        "        if done:\n",
        "            # Here, we decide to only print the last state (to see if our agent is on the goal or fall into an hole)\n",
        "            \n",
        "\n",
        "            # We print the number of step it took.\n",
        "            print(\"Number of steps\", step)\n",
        "            print(f\"reward:{reward}\")\n",
        "            break\n",
        "        state = new_state\n",
        "env.close()"
      ]
    },
    {
      "cell_type": "code",
      "execution_count": 18,
      "id": "dcdf3d87",
      "metadata": {
        "id": "dcdf3d87"
      },
      "outputs": [
        {
          "data": {
            "text/plain": [
              "array([0.9025, 0.95  , 1.    , 0.9025])"
            ]
          },
          "execution_count": 18,
          "metadata": {},
          "output_type": "execute_result"
        }
      ],
      "source": [
        "# np.argmax(qtable[state,:])\n",
        "qtable[state]"
      ]
    }
  ],
  "metadata": {
    "colab": {
      "provenance": []
    },
    "hide_input": false,
    "kernelspec": {
      "display_name": "base",
      "language": "python",
      "name": "python3"
    },
    "language_info": {
      "codemirror_mode": {
        "name": "ipython",
        "version": 3
      },
      "file_extension": ".py",
      "mimetype": "text/x-python",
      "name": "python",
      "nbconvert_exporter": "python",
      "pygments_lexer": "ipython3",
      "version": "3.11.5"
    }
  },
  "nbformat": 4,
  "nbformat_minor": 5
}
